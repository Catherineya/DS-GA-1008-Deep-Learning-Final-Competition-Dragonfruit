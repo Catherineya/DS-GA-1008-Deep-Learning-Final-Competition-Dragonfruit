{
 "cells": [
  {
   "cell_type": "code",
   "execution_count": 1,
   "metadata": {},
   "outputs": [],
   "source": [
    "import os\n",
    "import numpy as np\n",
    "from PIL import Image\n",
    "from pathlib import Path"
   ]
  },
  {
   "cell_type": "code",
   "execution_count": 2,
   "metadata": {},
   "outputs": [],
   "source": [
    "def load_data_from_directory(directory):\n",
    "    data = []\n",
    "    masks = []\n",
    "    for video_folder in sorted(Path(directory).iterdir()):\n",
    "        video_frames = []\n",
    "        video_mask = None\n",
    "\n",
    "        if video_folder.is_dir():\n",
    "            files = sorted(video_folder.glob('*'))\n",
    "            \n",
    "            for file in files:\n",
    "                if file.suffix == '.png':\n",
    "                    img = Image.open(os.path.join(video_folder, file))\n",
    "                    video_frames.append(np.array(img))\n",
    "                elif file.name == 'mask.npy':\n",
    "                    video_mask = np.load(os.path.join(video_folder, file))\n",
    "        \n",
    "        # Append the frames and mask to the data list\n",
    "        if video_frames:\n",
    "            data.append(video_frames)\n",
    "            masks.append(video_mask)\n",
    "    \n",
    "    return data, masks\n",
    "\n",
    "train_data, train_masks = load_data_from_directory('/Users/htwu/Downloads/dl_project/dataset/train')\n",
    "val_data, val_masks = load_data_from_directory('/Users/htwu/Downloads/dl_project/dataset/val')\n",
    "# unlabeled_data, _ = load_data_from_directory('/Users/htwu/Downloads/dl_project/dataset/unlabeled')\n",
    "\n"
   ]
  },
  {
   "cell_type": "code",
   "execution_count": 4,
   "metadata": {},
   "outputs": [
    {
     "name": "stdout",
     "output_type": "stream",
     "text": [
      "Number of videos in the training data: 1000\n",
      "Number of frames in the first video: 22\n",
      "Shape of the first frame: (160, 240, 3)\n",
      "Shape of the first mask: (22, 160, 240)\n"
     ]
    }
   ],
   "source": [
    "def test_load(train_data, train_masks):\n",
    "    print(f\"Number of videos in the training data: {len(train_data)}\")\n",
    "    print(f\"Number of frames in the first video: {len(train_data[0])}\")\n",
    "    print(f\"Shape of the first frame: {train_data[0][0].shape}\")\n",
    "    print(f\"Shape of the first mask: {train_masks[0].shape}\")\n",
    "\n",
    "# shapes = [\"cube\", \"sphere\", \"cylinder\"]\n",
    "# materials = [\"metal\", \"rubber\"]\n",
    "# colors = [\"gray\", \"red\", \"blue\", \"green\", \"brown\", \"cyan\", \"purple\", \"yellow\"]\n",
    "# def get_id(the_object):\n",
    "#     color = the_object['color']\n",
    "#     material = the_object['material']\n",
    "#     shape = the_object['shape']\n",
    "#     c_id = colors.index(color)\n",
    "#     m_id = materials.index(material)\n",
    "#     s_id = shapes.index(shape)\n",
    "#     obj_id = s_id * 16 + m_id * 8 + c_id + 1\n",
    "#     return obj_id\n",
    "\n",
    "#每一个mask都表示了一个视频中的lable的信息，一共有48种lable，每一个lable对应一个object\n",
    "#根据mask可以得到每一个object的信息，包括shape, material, color 三个属性\n",
    "#将这三个属性转换为一个id，这个id可以唯一的表示一个object\n",
    "\n",
    "test_load(train_data, train_masks)\n",
    "# # plt.imshow(mask)\n",
    "# # plt.axis('off')\n",
    "# #show the mask of the first video\n",
    "# import matplotlib.pyplot as plt\n",
    "# plt.imshow(train_masks[0][1])\n",
    "# plt.axis('off')\n",
    "# plt.show()\n",
    "\n"
   ]
  },
  {
   "cell_type": "markdown",
   "metadata": {},
   "source": []
  }
 ],
 "metadata": {
  "kernelspec": {
   "display_name": "Python 3 (ipykernel)",
   "language": "python",
   "name": "python3"
  },
  "language_info": {
   "codemirror_mode": {
    "name": "ipython",
    "version": 3
   },
   "file_extension": ".py",
   "mimetype": "text/x-python",
   "name": "python",
   "nbconvert_exporter": "python",
   "pygments_lexer": "ipython3",
   "version": "3.11.7"
  }
 },
 "nbformat": 4,
 "nbformat_minor": 4
}
